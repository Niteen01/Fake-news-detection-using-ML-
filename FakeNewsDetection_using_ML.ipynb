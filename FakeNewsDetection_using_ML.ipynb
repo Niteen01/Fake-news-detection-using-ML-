{
  "nbformat": 4,
  "nbformat_minor": 0,
  "metadata": {
    "colab": {
      "provenance": [],
      "mount_file_id": "1ZNdIOxCONZkJR0P93u5YflRsjavpjdHt",
      "authorship_tag": "ABX9TyMVtNNx7WnO66Bv9Dl++MU4",
      "include_colab_link": true
    },
    "kernelspec": {
      "name": "python3",
      "display_name": "Python 3"
    },
    "language_info": {
      "name": "python"
    }
  },
  "cells": [
    {
      "cell_type": "markdown",
      "metadata": {
        "id": "view-in-github",
        "colab_type": "text"
      },
      "source": [
        "<a href=\"https://colab.research.google.com/github/Niteen01/Fake-news-detection-using-ML-/blob/main/FakeNewsDetection_using_ML.ipynb\" target=\"_parent\"><img src=\"https://colab.research.google.com/assets/colab-badge.svg\" alt=\"Open In Colab\"/></a>"
      ]
    },
    {
      "cell_type": "code",
      "execution_count": null,
      "metadata": {
        "id": "qb3JNaRRVGW0"
      },
      "outputs": [],
      "source": [
        "import pandas as pd\n",
        "import numpy as np\n",
        "import re\n",
        "from sklearn.metrics import precision_score\n",
        "from sklearn.metrics import f1_score\n",
        "from sklearn.metrics import recall_score\n",
        "from nltk.corpus import stopwords\n",
        "from sklearn.model_selection import KFold\n",
        "from sklearn.tree import DecisionTreeClassifier\n",
        "\n",
        "from sklearn.model_selection import train_test_split, cross_val_score\n",
        "from sklearn.feature_extraction.text import TfidfVectorizer\n",
        "from collections import Counter\n",
        "from tqdm import tqdm\n",
        "from scipy.sparse import csr_matrix\n",
        "import math\n",
        "import operator\n",
        "from sklearn.preprocessing import normalize\n",
        "from sklearn.linear_model import LogisticRegression\n",
        "from sklearn.naive_bayes import MultinomialNB\n",
        "from nltk.stem.porter import PorterStemmer\n",
        "from sklearn.svm import SVC\n",
        "from sklearn.metrics import accuracy_score\n",
        "\n",
        "from keras.preprocessing.text import Tokenizer\n",
        "from tensorflow.keras.layers import Bidirectional\n",
        "from tensorflow.keras import backend\n",
        "# from keras.preprocessing.sequence import pad_sequences\n",
        "from tensorflow.keras.preprocessing.sequence import pad_sequences\n",
        "from keras.models import Sequential\n",
        "from keras.layers import Embedding, Conv1D, GlobalMaxPooling1D, Dense, Dropout, LSTM\n",
        "\n",
        "from transformers import AutoTokenizer, TFAutoModelForSequenceClassification\n",
        "import tensorflow as tf\n",
        "\n",
        "import nltk"
      ]
    },
    {
      "cell_type": "code",
      "source": [
        "pip install transformers"
      ],
      "metadata": {
        "id": "KbjHnC7QVhjt"
      },
      "execution_count": null,
      "outputs": []
    },
    {
      "cell_type": "code",
      "source": [
        "nltk.download('stopwords')\n",
        "news_dataset = pd.read_csv(\"/content/drive/MyDrive/dataset/train.csv\")\n",
        "news_dataset.head()\n",
        "news_dataset.isnull().sum()\n",
        "news_dataset = news_dataset.fillna('')\n",
        "news_dataset['content'] = news_dataset['author']+' '+news_dataset['title']\n",
        "port_stem = PorterStemmer()"
      ],
      "metadata": {
        "colab": {
          "base_uri": "https://localhost:8080/"
        },
        "id": "_I5oPO_-Vsvo",
        "outputId": "c0c6d611-056d-40e7-b890-83f954359350"
      },
      "execution_count": null,
      "outputs": [
        {
          "output_type": "stream",
          "name": "stderr",
          "text": [
            "[nltk_data] Downloading package stopwords to /root/nltk_data...\n",
            "[nltk_data]   Unzipping corpora/stopwords.zip.\n"
          ]
        }
      ]
    },
    {
      "cell_type": "code",
      "source": [
        "def removePunchuation(content):\n",
        "    new_String = re.sub('[^a-zA-Z]',' ',str(content))\n",
        "    return new_String\n",
        "\n",
        "def convertToLower(content):\n",
        "    content=content.lower()\n",
        "    content = content.split()\n",
        "    return content\n",
        "\n",
        "\n",
        "def removeStopWord(content):\n",
        "    temp=[]\n",
        "    for word in content:\n",
        "        if not word in stopwords.words('english'):\n",
        "            temp.append(word)\n",
        "    return temp\n",
        "\n",
        "def stemming(content):\n",
        "    temp=[]\n",
        "    for word in content:\n",
        "        str=port_stem.stem(word)\n",
        "        temp.append(str)\n",
        "    return temp\n",
        "\n",
        "def combineContent(content):\n",
        "    content = ' '.join(content)\n",
        "    return content"
      ],
      "metadata": {
        "id": "0QYyA5HoVtyb"
      },
      "execution_count": null,
      "outputs": []
    },
    {
      "cell_type": "code",
      "source": [
        "news_dataset['content'] = news_dataset['content'].apply(removePunchuation)\n",
        "news_dataset['content'] = news_dataset['content'].apply(convertToLower)\n",
        "news_dataset['content'] = news_dataset['content'].apply(removeStopWord)\n",
        "news_dataset['content'] = news_dataset['content'].apply(stemming)\n",
        "news_dataset['content'] = news_dataset['content'].apply(combineContent)\n"
      ],
      "metadata": {
        "id": "Mqydb4CjV1AP"
      },
      "execution_count": null,
      "outputs": []
    },
    {
      "cell_type": "code",
      "source": [
        "X = news_dataset['content'].values\n",
        "Y = news_dataset['label'].values\n",
        "\n",
        "ERT = news_dataset['content'].values\n",
        "ERT_value = news_dataset['label'].values\n",
        "\n",
        "vectorizer = TfidfVectorizer()\n",
        "\n",
        "vectorizer.fit(X)\n",
        "X = vectorizer.transform(X)\n",
        "\n",
        "X_train, X_test, Y_train, Y_test = train_test_split(X, Y, test_size = 0.2, stratify=Y, random_state=2)"
      ],
      "metadata": {
        "id": "jr3ziaysV6mA"
      },
      "execution_count": null,
      "outputs": []
    },
    {
      "cell_type": "code",
      "source": [
        "# 1. logistics regression\n",
        "model = LogisticRegression()\n",
        "scores = cross_val_score(model, X, Y, cv=10)\n",
        "print(\"logistic regression\")\n",
        "print(\"Cross-Validation Scores:\", scores)\n",
        "print(\"Mean 10 cv:\", np.mean(scores))\n",
        "\n",
        "model.fit(X_train, Y_train)\n",
        "X_train_prediction = model.predict(X_train)\n",
        "X_new = X_test[4]\n",
        "prediction = model.predict(X_new)\n",
        "\n",
        "# if (prediction[0]==0):\n",
        "#   print('The news is Real')\n",
        "# else:\n",
        "#   print('The news is Fake')\n",
        "\n",
        "y_pred = model.predict(X_test)\n",
        "\n",
        "f1 = f1_score(Y_test, y_pred, average='weighted')\n",
        "print(\"F1 score: \", f1)\n",
        "\n",
        "precision = precision_score(Y_test, y_pred)\n",
        "print('Precision score: ', precision)\n",
        "\n",
        "recall = recall_score(Y_test, y_pred)\n",
        "print('Recall score: ', recall)\n",
        "\n",
        "accuracy = accuracy_score(Y_test, y_pred)\n",
        "print(\"Accuracy:\", accuracy)"
      ],
      "metadata": {
        "colab": {
          "base_uri": "https://localhost:8080/"
        },
        "id": "7QWW_jHkWAbl",
        "outputId": "960f215b-574b-4eba-82df-9f6e235f3f36"
      },
      "execution_count": null,
      "outputs": [
        {
          "output_type": "stream",
          "name": "stdout",
          "text": [
            "logistic regression\n",
            "Cross-Validation Scores: [0.97932692 0.97692308 0.97692308 0.97596154 0.98221154 0.97740385\n",
            " 0.97932692 0.97788462 0.97596154 0.97884615]\n",
            "Mean 10 cv: 0.9780769230769231\n",
            "F1 score:  0.9790819028111927\n",
            "Precision score:  0.9659197012138189\n",
            "Recall score:  0.9932789246279404\n",
            "Accuracy: 0.9790865384615385\n"
          ]
        }
      ]
    },
    {
      "cell_type": "code",
      "source": [
        "# 2. support vector machine\n",
        "svm = SVC(kernel='linear', C=1.0, random_state=42)\n",
        "scores = cross_val_score(svm, X, Y, cv=10)\n",
        "print(\"svc\")\n",
        "print(\"Cross-Validation Scores:\", scores)\n",
        "print(\"Mean 10 cv:\", np.mean(scores))\n",
        "\n",
        "svm.fit(X_train, Y_train)\n",
        "y_pred = svm.predict(X_test)\n",
        "\n",
        "f1 = f1_score(Y_test, y_pred, average='weighted')\n",
        "print(\"F1 score: \", f1)\n",
        "\n",
        "precision = precision_score(Y_test, y_pred)\n",
        "print('Precision score: ', precision)\n",
        "\n",
        "recall = recall_score(Y_test, y_pred)\n",
        "print('Recall score: ', recall)\n",
        "\n",
        "accuracy = accuracy_score(Y_test, y_pred)\n",
        "print(\"Accuracy: \", accuracy)"
      ],
      "metadata": {
        "colab": {
          "base_uri": "https://localhost:8080/"
        },
        "id": "qkEXwinoWFTQ",
        "outputId": "3ac85af3-1d01-4da8-d4fe-4b65182e2db7"
      },
      "execution_count": null,
      "outputs": [
        {
          "output_type": "stream",
          "name": "stdout",
          "text": [
            "svc\n",
            "Cross-Validation Scores: [0.99230769 0.99326923 0.9875     0.99326923 0.99471154 0.99375\n",
            " 0.99230769 0.99567308 0.98798077 0.99086538]\n",
            "Mean 10 cv: 0.9921634615384616\n",
            "F1 score:  0.9913461338436202\n",
            "Precision score:  0.9904168663152851\n",
            "Recall score:  0.9923187710033605\n",
            "Accuracy:  0.9913461538461539\n"
          ]
        }
      ]
    },
    {
      "cell_type": "code",
      "source": [
        "# 3. decision tree\n",
        "dtc = DecisionTreeClassifier(random_state=42)\n",
        "scores = cross_val_score(dtc, X, Y, cv=10)\n",
        "print(\"decision tree\")\n",
        "print(\"Cross-Validation Scores:\", scores)\n",
        "print(\"Mean 10cv:\", np.mean(scores))\n",
        "dtc.fit(X_train, Y_train)\n",
        "\n",
        "# Test the Decision Tree model and print accuracy score\n",
        "y_pred = dtc.predict(X_test)\n",
        "\n",
        "f1 = f1_score(Y_test, y_pred, average='weighted')\n",
        "print(\"F1 score: \", f1)\n",
        "\n",
        "precision = precision_score(Y_test, y_pred)\n",
        "print('Precision score: ', precision)\n",
        "\n",
        "recall = recall_score(Y_test, y_pred)\n",
        "print('Recall score: ', recall)\n",
        "\n",
        "accuracy = accuracy_score(Y_test, y_pred)\n",
        "print(\"Accuracy:\", accuracy)"
      ],
      "metadata": {
        "colab": {
          "base_uri": "https://localhost:8080/"
        },
        "id": "tZY6pY7CWKWO",
        "outputId": "352679c5-80bf-4c06-bdc0-52fb28befac6"
      },
      "execution_count": null,
      "outputs": [
        {
          "output_type": "stream",
          "name": "stdout",
          "text": [
            "decision tree\n",
            "Cross-Validation Scores: [0.99615385 0.99471154 0.99182692 0.99519231 0.99423077 0.99471154\n",
            " 0.99567308 0.99230769 0.99375    0.99134615]\n",
            "Mean 10cv: 0.9939903846153847\n",
            "F1 score:  0.9918269155204523\n",
            "Precision score:  0.9937349397590362\n",
            "Recall score:  0.9899183869419107\n",
            "Accuracy: 0.9918269230769231\n"
          ]
        }
      ]
    },
    {
      "cell_type": "code",
      "source": [
        "# 4. knn\n",
        "from sklearn.neighbors import KNeighborsClassifier\n",
        "knn = KNeighborsClassifier(n_neighbors=5)\n",
        "scores = cross_val_score(knn, X, Y, cv=10)\n",
        "print(\"knn\")\n",
        "print(\"Cross-Validation Scores:\", scores)\n",
        "print(\"Mean F1 Score:\", np.mean(scores))\n",
        "knn.fit(X_train, Y_train)\n",
        "y_pred = knn.predict(X_test)\n",
        "\n",
        "f1 = f1_score(Y_test, y_pred, average='weighted')\n",
        "print(\"F1 score: \", f1)\n",
        "\n",
        "precision = precision_score(Y_test, y_pred)\n",
        "print('Precision score: ', precision)\n",
        "\n",
        "recall = recall_score(Y_test, y_pred)\n",
        "print('Recall score: ', recall)\n",
        "\n",
        "accuracy = accuracy_score(Y_test, y_pred)\n",
        "print(\"Accuracy:\", accuracy)"
      ],
      "metadata": {
        "colab": {
          "base_uri": "https://localhost:8080/"
        },
        "id": "efwDSZkhWOf3",
        "outputId": "6a4b750d-1fd4-41bb-80ee-88aad08bf50c"
      },
      "execution_count": null,
      "outputs": [
        {
          "output_type": "stream",
          "name": "stdout",
          "text": [
            "knn\n",
            "Cross-Validation Scores: [0.52788462 0.53028846 0.53028846 0.52211538 0.52451923 0.52019231\n",
            " 0.52307692 0.52740385 0.52692308 0.52692308]\n",
            "Mean F1 Score: 0.5259615384615384\n",
            "F1 score:  0.38247842715434816\n",
            "Precision score:  0.5122970978848992\n",
            "Recall score:  1.0\n",
            "Accuracy: 0.5233173076923077\n"
          ]
        }
      ]
    },
    {
      "cell_type": "code",
      "source": [
        "# 5. naive baiyes\n",
        "nb = MultinomialNB()\n",
        "scores = cross_val_score(nb, X, Y, cv=10)\n",
        "print(\"naive bayes\")\n",
        "print(\"Cross-Validation Scores:\", scores)\n",
        "print(\"Mean F1 Score:\", np.mean(scores))\n",
        "nb.fit(X_train, Y_train)\n",
        "y_pred = nb.predict(X_test)\n",
        "\n",
        "f1 = f1_score(Y_test, y_pred, average='weighted')\n",
        "print(\"F1 score: \", f1)\n",
        "\n",
        "precision = precision_score(Y_test, y_pred)\n",
        "print('Precision score: ', precision)\n",
        "\n",
        "recall = recall_score(Y_test, y_pred)\n",
        "print('Recall score: ', recall)\n",
        "\n",
        "accuracy = accuracy_score(Y_test, y_pred)\n",
        "print(\"Accuracy:\", accuracy)"
      ],
      "metadata": {
        "colab": {
          "base_uri": "https://localhost:8080/"
        },
        "id": "MQOdXJTpWSQH",
        "outputId": "4ee63dab-5c23-4de6-8cfa-136b3f811f19"
      },
      "execution_count": null,
      "outputs": [
        {
          "output_type": "stream",
          "name": "stdout",
          "text": [
            "naive bayes\n",
            "Cross-Validation Scores: [0.95625    0.95576923 0.95961538 0.95336538 0.95769231 0.95817308\n",
            " 0.95240385 0.95817308 0.95048077 0.95096154]\n",
            "Mean F1 Score: 0.9552884615384615\n",
            "F1 score:  0.9549831652908682\n",
            "Precision score:  0.9932362122788762\n",
            "Recall score:  0.9164666346615459\n",
            "Accuracy: 0.9550480769230769\n"
          ]
        }
      ]
    }
  ]
}